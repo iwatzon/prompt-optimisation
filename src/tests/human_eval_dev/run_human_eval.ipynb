{
 "cells": [
  {
   "cell_type": "markdown",
   "metadata": {},
   "source": [
    "### HumanEval"
   ]
  },
  {
   "cell_type": "code",
   "execution_count": 3,
   "metadata": {},
   "outputs": [],
   "source": [
    "from langchain_core.pydantic_v1 import BaseModel, Field\n",
    "from langchain.chat_models import ChatOpenAI\n",
    "from langchain.output_parsers import PydanticOutputParser\n",
    "from langchain.prompts import PromptTemplate\n",
    "from tqdm import tqdm\n",
    "\n",
    "from human_eval.data import read_problems, write_jsonl\n",
    "\n",
    "data = read_problems()\n",
    "\n",
    "import re\n",
    "\n",
    "def extract_code_blocks(text):\n",
    "    \"\"\"\n",
    "    Extracts code blocks from markdown text.\n",
    "    \"\"\"\n",
    "    # This regex matches content between triple backticks\n",
    "    code_blocks = re.findall(r'```python\\n(.*?)\\n```', text, re.DOTALL)\n",
    "    return code_blocks\n",
    "\n",
    "class Response(BaseModel):\n",
    "    \"\"\"Final response to the prompt\"\"\"\n",
    "    code: str = Field(description=\"Code block generated in response to the prompt\")\n",
    "\n",
    "def generate_one_completion(base_prompt: str, task_prompt: str, temp: float, model: str) -> Response:\n",
    "    \"\"\"\n",
    "    Generates code completion for a given task prompt.\n",
    "    \"\"\"\n",
    "    llm = ChatOpenAI(\n",
    "        temperature=temp,\n",
    "        model=model\n",
    "    )\n",
    "    pydantic_parser = PydanticOutputParser(pydantic_object=Response)\n",
    "    prompt = PromptTemplate(\n",
    "        template=\"{base_prompt}:\\n{format_instructions}\\n{task}\\n\",\n",
    "        input_variables=[\"task\"],\n",
    "        partial_variables={\"format_instructions\": pydantic_parser.get_format_instructions()},\n",
    "    )\n",
    "    chain = prompt | llm | pydantic_parser\n",
    "    completion = chain.invoke({\"base_prompt\": base_prompt, \"task\": task_prompt})\n",
    "    return completion.code\n",
    "\n",
    "def generate_llm_outputs(base_prompt: str, sample_size: int, temp: float = 0.0, model: str = \"gpt-4o\"):\n",
    "    \"\"\"\n",
    "    Generates completions for all tasks in the human evaluation set.\n",
    "    \"\"\"\n",
    "    from itertools import islice\n",
    "\n",
    "    problems = read_problems()\n",
    "    samples = [\n",
    "        dict(task_id=task_id, completion=generate_one_completion(base_prompt, problems[task_id][\"prompt\"], temp, model))\n",
    "        for task_id in tqdm(dict(islice(problems.items(), sample_size)))\n",
    "    ]\n",
    "    write_jsonl(\"llm_outputs.jsonl\", samples)"
   ]
  },
  {
   "cell_type": "code",
   "execution_count": 4,
   "metadata": {},
   "outputs": [],
   "source": [
    "base_prompt = \"Complete the following function:\\n\\n{task_prompt}\""
   ]
  },
  {
   "cell_type": "code",
   "execution_count": 5,
   "metadata": {},
   "outputs": [],
   "source": [
    "# response = generate_one_completion(base_prompt, data['HumanEval/0'], 0, \"gpt-4o\")\n",
    "# print(response)"
   ]
  },
  {
   "cell_type": "code",
   "execution_count": 6,
   "metadata": {},
   "outputs": [],
   "source": [
    "# generate_llm_outputs"
   ]
  },
  {
   "cell_type": "code",
   "execution_count": 7,
   "metadata": {},
   "outputs": [
    {
     "name": "stdout",
     "output_type": "stream",
     "text": [
      "Reading samples...\n"
     ]
    },
    {
     "name": "stderr",
     "output_type": "stream",
     "text": [
      "5it [00:00, 3035.39it/s]\n"
     ]
    },
    {
     "name": "stdout",
     "output_type": "stream",
     "text": [
      "Running test suites...\n"
     ]
    },
    {
     "name": "stderr",
     "output_type": "stream",
     "text": [
      "100%|██████████| 5/5 [00:00<00:00, 18.01it/s]\n"
     ]
    },
    {
     "name": "stdout",
     "output_type": "stream",
     "text": [
      "Writing results to llm_outputs.jsonl_results.jsonl...\n"
     ]
    },
    {
     "name": "stderr",
     "output_type": "stream",
     "text": [
      "100%|██████████| 5/5 [00:00<00:00, 4291.29it/s]\n"
     ]
    },
    {
     "data": {
      "text/plain": [
       "{'pass@1': 1.0}"
      ]
     },
     "execution_count": 7,
     "metadata": {},
     "output_type": "execute_result"
    }
   ],
   "source": [
    "from human_eval.evaluation import evaluate_functional_correctness\n",
    "\n",
    "evaluate_functional_correctness(\"llm_outputs.jsonl\", 5)"
   ]
  },
  {
   "cell_type": "code",
   "execution_count": null,
   "metadata": {},
   "outputs": [],
   "source": []
  }
 ],
 "metadata": {
  "kernelspec": {
   "display_name": ".venv",
   "language": "python",
   "name": "python3"
  },
  "language_info": {
   "codemirror_mode": {
    "name": "ipython",
    "version": 3
   },
   "file_extension": ".py",
   "mimetype": "text/x-python",
   "name": "python",
   "nbconvert_exporter": "python",
   "pygments_lexer": "ipython3",
   "version": "3.11.4"
  }
 },
 "nbformat": 4,
 "nbformat_minor": 2
}
