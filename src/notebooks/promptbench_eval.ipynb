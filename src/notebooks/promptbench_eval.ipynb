{
 "cells": [
  {
   "cell_type": "code",
   "execution_count": 1,
   "metadata": {},
   "outputs": [
    {
     "name": "stderr",
     "output_type": "stream",
     "text": [
      "/Users/iwatson/Documents/Research Project/prompt-optimisation/.venv/lib/python3.11/site-packages/tqdm/auto.py:21: TqdmWarning: IProgress not found. Please update jupyter and ipywidgets. See https://ipywidgets.readthedocs.io/en/stable/user_install.html\n",
      "  from .autonotebook import tqdm as notebook_tqdm\n"
     ]
    }
   ],
   "source": [
    "import sys\n",
    "\n",
    "# Add the directory of promptbench to the Python path\n",
    "sys.path.append('/Users/iwatson/Repos/promptbench')\n",
    "\n",
    "# Now you can import promptbench by name\n",
    "import promptbench as pb"
   ]
  },
  {
   "cell_type": "markdown",
   "metadata": {},
   "source": [
    "### Load Models and Dataset"
   ]
  },
  {
   "cell_type": "code",
   "execution_count": 2,
   "metadata": {},
   "outputs": [
    {
     "name": "stdout",
     "output_type": "stream",
     "text": [
      "All supported datasets: \n",
      "  sst2\n",
      "  cola\n",
      "  qqp\n",
      "  mnli\n",
      "  mnli_matched\n",
      "  mnli_mismatched\n",
      "  qnli\n",
      "  wnli\n",
      "  rte\n",
      "  mrpc\n",
      "  mmlu\n",
      "  squad_v2\n",
      "  un_multi\n",
      "  iwslt2017\n",
      "  math\n",
      "  bool_logic\n",
      "  valid_parentheses\n",
      "  gsm8k\n",
      "  csqa\n",
      "  bigbench_date\n",
      "  bigbench_object_tracking\n",
      "  last_letter_concat\n",
      "  numersense\n",
      "  qasc\n",
      "  bbh\n",
      "  drop\n",
      "  arc-easy\n",
      "  arc-challenge\n"
     ]
    }
   ],
   "source": [
    "# print all supported datasets in promptbench\n",
    "print('All supported datasets: ')\n",
    "for dataset in pb.SUPPORTED_DATASETS:\n",
    "    print(f'  {dataset}')"
   ]
  },
  {
   "cell_type": "code",
   "execution_count": 3,
   "metadata": {},
   "outputs": [
    {
     "name": "stdout",
     "output_type": "stream",
     "text": [
      "All supported models: \n",
      "  google/flan-t5-large\n",
      "  llama2-7b\n",
      "  llama2-7b-chat\n",
      "  llama2-13b\n",
      "  llama2-13b-chat\n",
      "  llama2-70b\n",
      "  llama2-70b-chat\n",
      "  phi-1.5\n",
      "  phi-2\n",
      "  palm\n",
      "  gpt-3.5-turbo\n",
      "  gpt-4\n",
      "  gpt-4-1106-preview\n",
      "  gpt-3.5-turbo-1106\n",
      "  gpt-4-0125-preview\n",
      "  gpt-3.5-turbo-0125\n",
      "  gpt-4-turbo\n",
      "  gpt-4o\n",
      "  vicuna-7b\n",
      "  vicuna-13b\n",
      "  vicuna-13b-v1.3\n",
      "  google/flan-ul2\n",
      "  gemini-pro\n",
      "  mistralai/Mistral-7B-v0.1\n",
      "  mistralai/Mistral-7B-Instruct-v0.1\n",
      "  mistralai/Mixtral-8x7B-v0.1\n",
      "  mistralai/Mixtral-8x7B-Instruct-v0.1\n",
      "  01-ai/Yi-6B\n",
      "  01-ai/Yi-34B\n",
      "  01-ai/Yi-6B-Chat\n",
      "  01-ai/Yi-34B-Chat\n",
      "  baichuan-inc/Baichuan2-7B-Base\n",
      "  baichuan-inc/Baichuan2-13B-Base\n",
      "  baichuan-inc/Baichuan2-7B-Chat\n",
      "  baichuan-inc/Baichuan2-13B-Chat\n"
     ]
    }
   ],
   "source": [
    "# print all supported models in promptbench\n",
    "print('All supported models: ')\n",
    "for model in pb.SUPPORTED_MODELS:\n",
    "    print(f'  {model}')"
   ]
  },
  {
   "cell_type": "code",
   "execution_count": 10,
   "metadata": {},
   "outputs": [],
   "source": [
    "dataset_name = \"bigbench_object_tracking\""
   ]
  },
  {
   "cell_type": "code",
   "execution_count": 13,
   "metadata": {},
   "outputs": [
    {
     "data": {
      "text/plain": [
       "[{'content': 'Alice, Bob, and Claire are playing a game. At the start of the game, they are each holding a ball: Alice has a orange ball, Bob has a white ball, and Claire has a blue ball. \\n\\nAs the game progresses, pairs of players trade balls. First, Alice and Bob swap balls. Then, Bob and Claire swap balls. Finally, Alice and Bob swap balls. At the end of the game, Alice has the \\nWhich choice is true ? Answer Choices: (A) orange ball. (B) white ball. (C) blue ball.',\n",
       "  'label': 'C'},\n",
       " {'content': 'Alice, Bob, and Claire are playing a game. At the start of the game, they are each holding a ball: Alice has a orange ball, Bob has a white ball, and Claire has a blue ball. \\n\\nAs the game progresses, pairs of players trade balls. First, Alice and Bob swap balls. Then, Bob and Claire swap balls. Finally, Alice and Bob swap balls. At the end of the game, Bob has the \\nWhich choice is true ? Answer Choices: (A) orange ball. (B) white ball. (C) blue ball.',\n",
       "  'label': 'B'},\n",
       " {'content': 'Alice, Bob, and Claire are playing a game. At the start of the game, they are each holding a ball: Alice has a orange ball, Bob has a white ball, and Claire has a blue ball. \\n\\nAs the game progresses, pairs of players trade balls. First, Alice and Bob swap balls. Then, Bob and Claire swap balls. Finally, Alice and Bob swap balls. At the end of the game, Claire has the \\nWhich choice is true ? Answer Choices: (A) orange ball. (B) white ball. (C) blue ball.',\n",
       "  'label': 'A'},\n",
       " {'content': 'Alice, Bob, and Claire are playing a game. At the start of the game, they are each holding a ball: Alice has a black ball, Bob has a brown ball, and Claire has a blue ball. \\n\\nAs the game progresses, pairs of players trade balls. First, Bob and Claire swap balls. Then, Alice and Bob swap balls. Finally, Claire and Bob swap balls. At the end of the game, Alice has the \\nWhich choice is true ? Answer Choices: (A) black ball. (B) brown ball. (C) blue ball.',\n",
       "  'label': 'C'},\n",
       " {'content': 'Alice, Bob, and Claire are playing a game. At the start of the game, they are each holding a ball: Alice has a black ball, Bob has a brown ball, and Claire has a blue ball. \\n\\nAs the game progresses, pairs of players trade balls. First, Bob and Claire swap balls. Then, Alice and Bob swap balls. Finally, Claire and Bob swap balls. At the end of the game, Bob has the \\nWhich choice is true ? Answer Choices: (A) black ball. (B) brown ball. (C) blue ball.',\n",
       "  'label': 'B'},\n",
       " {'content': 'Alice, Bob, and Claire are playing a game. At the start of the game, they are each holding a ball: Alice has a black ball, Bob has a brown ball, and Claire has a blue ball. \\n\\nAs the game progresses, pairs of players trade balls. First, Bob and Claire swap balls. Then, Alice and Bob swap balls. Finally, Claire and Bob swap balls. At the end of the game, Claire has the \\nWhich choice is true ? Answer Choices: (A) black ball. (B) brown ball. (C) blue ball.',\n",
       "  'label': 'A'},\n",
       " {'content': 'Alice, Bob, and Claire are playing a game. At the start of the game, they are each holding a ball: Alice has a orange ball, Bob has a red ball, and Claire has a black ball. \\n\\nAs the game progresses, pairs of players trade balls. First, Alice and Bob swap balls. Then, Claire and Bob swap balls. Finally, Alice and Claire swap balls. At the end of the game, Alice has the \\nWhich choice is true ? Answer Choices: (A) orange ball. (B) red ball. (C) black ball.',\n",
       "  'label': 'A'},\n",
       " {'content': 'Alice, Bob, and Claire are playing a game. At the start of the game, they are each holding a ball: Alice has a orange ball, Bob has a red ball, and Claire has a black ball. \\n\\nAs the game progresses, pairs of players trade balls. First, Alice and Bob swap balls. Then, Claire and Bob swap balls. Finally, Alice and Claire swap balls. At the end of the game, Bob has the \\nWhich choice is true ? Answer Choices: (A) orange ball. (B) red ball. (C) black ball.',\n",
       "  'label': 'C'},\n",
       " {'content': 'Alice, Bob, and Claire are playing a game. At the start of the game, they are each holding a ball: Alice has a orange ball, Bob has a red ball, and Claire has a black ball. \\n\\nAs the game progresses, pairs of players trade balls. First, Alice and Bob swap balls. Then, Claire and Bob swap balls. Finally, Alice and Claire swap balls. At the end of the game, Claire has the \\nWhich choice is true ? Answer Choices: (A) orange ball. (B) red ball. (C) black ball.',\n",
       "  'label': 'B'},\n",
       " {'content': 'Alice, Bob, and Claire are playing a game. At the start of the game, they are each holding a ball: Alice has a yellow ball, Bob has a purple ball, and Claire has a blue ball. \\n\\nAs the game progresses, pairs of players trade balls. First, Alice and Claire swap balls. Then, Bob and Claire swap balls. Finally, Alice and Claire swap balls. At the end of the game, Alice has the \\nWhich choice is true ? Answer Choices: (A) yellow ball. (B) purple ball. (C) blue ball.',\n",
       "  'label': 'B'},\n",
       " {'content': 'Alice, Bob, and Claire are playing a game. At the start of the game, they are each holding a ball: Alice has a yellow ball, Bob has a purple ball, and Claire has a blue ball. \\n\\nAs the game progresses, pairs of players trade balls. First, Alice and Claire swap balls. Then, Bob and Claire swap balls. Finally, Alice and Claire swap balls. At the end of the game, Bob has the \\nWhich choice is true ? Answer Choices: (A) yellow ball. (B) purple ball. (C) blue ball.',\n",
       "  'label': 'A'},\n",
       " {'content': 'Alice, Bob, and Claire are playing a game. At the start of the game, they are each holding a ball: Alice has a yellow ball, Bob has a purple ball, and Claire has a blue ball. \\n\\nAs the game progresses, pairs of players trade balls. First, Alice and Claire swap balls. Then, Bob and Claire swap balls. Finally, Alice and Claire swap balls. At the end of the game, Claire has the \\nWhich choice is true ? Answer Choices: (A) yellow ball. (B) purple ball. (C) blue ball.',\n",
       "  'label': 'C'},\n",
       " {'content': 'Alice, Bob, and Claire are playing a game. At the start of the game, they are each holding a ball: Alice has a brown ball, Bob has a red ball, and Claire has a white ball. \\n\\nAs the game progresses, pairs of players trade balls. First, Claire and Bob swap balls. Then, Bob and Alice swap balls. Finally, Claire and Alice swap balls. At the end of the game, Alice has the \\nWhich choice is true ? Answer Choices: (A) brown ball. (B) red ball. (C) white ball.',\n",
       "  'label': 'B'},\n",
       " {'content': 'Alice, Bob, and Claire are playing a game. At the start of the game, they are each holding a ball: Alice has a brown ball, Bob has a red ball, and Claire has a white ball. \\n\\nAs the game progresses, pairs of players trade balls. First, Claire and Bob swap balls. Then, Bob and Alice swap balls. Finally, Claire and Alice swap balls. At the end of the game, Bob has the \\nWhich choice is true ? Answer Choices: (A) brown ball. (B) red ball. (C) white ball.',\n",
       "  'label': 'A'},\n",
       " {'content': 'Alice, Bob, and Claire are playing a game. At the start of the game, they are each holding a ball: Alice has a brown ball, Bob has a red ball, and Claire has a white ball. \\n\\nAs the game progresses, pairs of players trade balls. First, Claire and Bob swap balls. Then, Bob and Alice swap balls. Finally, Claire and Alice swap balls. At the end of the game, Claire has the \\nWhich choice is true ? Answer Choices: (A) brown ball. (B) red ball. (C) white ball.',\n",
       "  'label': 'C'},\n",
       " {'content': 'Alice, Bob, and Claire are playing a game. At the start of the game, they are each holding a ball: Alice has a pink ball, Bob has a brown ball, and Claire has a orange ball. \\n\\nAs the game progresses, pairs of players trade balls. First, Claire and Alice swap balls. Then, Alice and Bob swap balls. Finally, Bob and Claire swap balls. At the end of the game, Alice has the \\nWhich choice is true ? Answer Choices: (A) pink ball. (B) brown ball. (C) orange ball.',\n",
       "  'label': 'B'},\n",
       " {'content': 'Alice, Bob, and Claire are playing a game. At the start of the game, they are each holding a ball: Alice has a pink ball, Bob has a brown ball, and Claire has a orange ball. \\n\\nAs the game progresses, pairs of players trade balls. First, Claire and Alice swap balls. Then, Alice and Bob swap balls. Finally, Bob and Claire swap balls. At the end of the game, Bob has the \\nWhich choice is true ? Answer Choices: (A) pink ball. (B) brown ball. (C) orange ball.',\n",
       "  'label': 'A'},\n",
       " {'content': 'Alice, Bob, and Claire are playing a game. At the start of the game, they are each holding a ball: Alice has a pink ball, Bob has a brown ball, and Claire has a orange ball. \\n\\nAs the game progresses, pairs of players trade balls. First, Claire and Alice swap balls. Then, Alice and Bob swap balls. Finally, Bob and Claire swap balls. At the end of the game, Claire has the \\nWhich choice is true ? Answer Choices: (A) pink ball. (B) brown ball. (C) orange ball.',\n",
       "  'label': 'C'},\n",
       " {'content': 'Alice, Bob, and Claire are playing a game. At the start of the game, they are each holding a ball: Alice has a blue ball, Bob has a yellow ball, and Claire has a green ball. \\n\\nAs the game progresses, pairs of players trade balls. First, Bob and Claire swap balls. Then, Bob and Alice swap balls. Finally, Bob and Claire swap balls. At the end of the game, Alice has the \\nWhich choice is true ? Answer Choices: (A) blue ball. (B) yellow ball. (C) green ball.',\n",
       "  'label': 'C'},\n",
       " {'content': 'Alice, Bob, and Claire are playing a game. At the start of the game, they are each holding a ball: Alice has a blue ball, Bob has a yellow ball, and Claire has a green ball. \\n\\nAs the game progresses, pairs of players trade balls. First, Bob and Claire swap balls. Then, Bob and Alice swap balls. Finally, Bob and Claire swap balls. At the end of the game, Bob has the \\nWhich choice is true ? Answer Choices: (A) blue ball. (B) yellow ball. (C) green ball.',\n",
       "  'label': 'B'}]"
      ]
     },
     "execution_count": 13,
     "metadata": {},
     "output_type": "execute_result"
    }
   ],
   "source": [
    "dataset = pb.DatasetLoader.load_dataset(dataset_name)\n",
    "dataset[:20]"
   ]
  },
  {
   "cell_type": "code",
   "execution_count": 14,
   "metadata": {},
   "outputs": [],
   "source": [
    "model = \"gpt-3.5-turbo\"\n",
    "model = pb.LLMModel(model=model, max_new_tokens=4096, temperature=0.0)"
   ]
  },
  {
   "cell_type": "markdown",
   "metadata": {},
   "source": [
    "### Test Custom Prompts"
   ]
  },
  {
   "cell_type": "code",
   "execution_count": 21,
   "metadata": {},
   "outputs": [],
   "source": [
    "prompts = pb.Prompt([\n",
    "'{content}. Please output your answer at the end as ##<your answer (among A through C)> .',\n",
    "\"\"\"Please solve the following object tracking problem:\n",
    "{content}\n",
    "Provide your answer at the end exactly as ##<answer (among A through C)>, with no spaces between the ## and the answer.\"\"\",\n",
    "\"Please solve the following object tracking problem and provide the answer at the end exactly as ##<your answer (among A through C)> with no spaces between the ## and your answer. {content}\",\n",
    "\"\"\"Object tracking is essential for understanding movement and interactions in various contexts.\n",
    "\n",
    "Please solve the following object tracking problem:\n",
    "\n",
    "{content}\n",
    "\n",
    "To ensure your answer is correctly formatted, follow these actions:\n",
    "1. Analyze and solve the given object tracking problem.\n",
    "2. Write your answer at the end of the solution exactly in the format: ##<answer (among A through C)>.\n",
    "   - Ensure the format includes double hashes (##) immediately followed by the answer (A, B, or C).\n",
    "   - This formatting is crucial for the system to recognize your answer.\n",
    "3. Verify there are no spaces between the ## and the answer.\n",
    "\n",
    "Examples:\n",
    "Correct Format:\n",
    "- If the correct answer is B, you should write it exactly as: ##B\n",
    "\n",
    "Incorrect Format:\n",
    "- If you write the answer as ## B or #B#, it will not be recognized correctly.\"\"\",\n",
    "\"\"\"Solve the following object tracking problem: {content}\n",
    "\n",
    "Please output your answer at the end exactly as ##<answer (among A through C)>.\n",
    "**Note:** Ensure there are no spaces between the ## and the answer. This formatting is crucial for the correct evaluation of responses.\"\"\",\n",
    "])"
   ]
  },
  {
   "cell_type": "code",
   "execution_count": 22,
   "metadata": {},
   "outputs": [],
   "source": [
    "# Custom mapping function"
   ]
  },
  {
   "cell_type": "code",
   "execution_count": 23,
   "metadata": {},
   "outputs": [
    {
     "name": "stderr",
     "output_type": "stream",
     "text": [
      "100%|██████████| 20/20 [00:18<00:00,  1.08it/s]\n"
     ]
    },
    {
     "name": "stdout",
     "output_type": "stream",
     "text": [
      "0.150, {content}. Please output your answer at the end as ##<your answer (among A through C)> .\n"
     ]
    },
    {
     "name": "stderr",
     "output_type": "stream",
     "text": [
      "100%|██████████| 20/20 [00:53<00:00,  2.67s/it]\n"
     ]
    },
    {
     "name": "stdout",
     "output_type": "stream",
     "text": [
      "0.600, Please solve the following object tracking problem:\n",
      "{content}\n",
      "Provide your answer at the end exactly as ##<answer (among A through C)>, with no spaces between the ## and the answer.\n"
     ]
    },
    {
     "name": "stderr",
     "output_type": "stream",
     "text": [
      "100%|██████████| 20/20 [00:49<00:00,  2.47s/it]\n"
     ]
    },
    {
     "name": "stdout",
     "output_type": "stream",
     "text": [
      "0.850, Please solve the following object tracking problem and provide the answer at the end exactly as ##<your answer (among A through C)> with no spaces between the ## and your answer. {content}\n"
     ]
    },
    {
     "name": "stderr",
     "output_type": "stream",
     "text": [
      "100%|██████████| 20/20 [01:01<00:00,  3.08s/it]\n"
     ]
    },
    {
     "name": "stdout",
     "output_type": "stream",
     "text": [
      "0.500, Object tracking is essential for understanding movement and interactions in various contexts.\n",
      "\n",
      "Please solve the following object tracking problem:\n",
      "\n",
      "{content}\n",
      "\n",
      "To ensure your answer is correctly formatted, follow these actions:\n",
      "1. Analyze and solve the given object tracking problem.\n",
      "2. Write your answer at the end of the solution exactly in the format: ##<answer (among A through C)>.\n",
      "   - Ensure the format includes double hashes (##) immediately followed by the answer (A, B, or C).\n",
      "   - This formatting is crucial for the system to recognize your answer.\n",
      "3. Verify there are no spaces between the ## and the answer.\n",
      "\n",
      "Examples:\n",
      "Correct Format:\n",
      "- If the correct answer is B, you should write it exactly as: ##B\n",
      "\n",
      "Incorrect Format:\n",
      "- If you write the answer as ## B or #B#, it will not be recognized correctly.\n"
     ]
    },
    {
     "name": "stderr",
     "output_type": "stream",
     "text": [
      "100%|██████████| 20/20 [00:37<00:00,  1.90s/it]"
     ]
    },
    {
     "name": "stdout",
     "output_type": "stream",
     "text": [
      "0.300, Solve the following object tracking problem: {content}\n",
      "\n",
      "Please output your answer at the end exactly as ##<answer (among A through C)>.\n",
      "**Note:** Ensure there are no spaces between the ## and the answer. This formatting is crucial for the correct evaluation of responses.\n"
     ]
    },
    {
     "name": "stderr",
     "output_type": "stream",
     "text": [
      "\n"
     ]
    }
   ],
   "source": [
    "from tqdm import tqdm\n",
    "for prompt in prompts:\n",
    "    preds = []\n",
    "    labels = []\n",
    "    for data in tqdm(dataset[:20]):\n",
    "        # process input\n",
    "        input_text = pb.InputProcess.basic_format(prompt, data)\n",
    "        label = data['label']\n",
    "        raw_pred = model(input_text)\n",
    "        # process output\n",
    "        pred = pb.OutputProcess.pattern_re(raw_pred, r\"##([A-C])\")\n",
    "        # print(f\"Pred: {pred}, Label: {label}\")\n",
    "        preds.append(pred)\n",
    "        labels.append(label)\n",
    "    \n",
    "    # evaluate\n",
    "    score = pb.Eval.compute_cls_accuracy(preds, labels)\n",
    "    print(f\"{score:.3f}, {prompt}\")"
   ]
  },
  {
   "cell_type": "markdown",
   "metadata": {},
   "source": [
    "### Test Pre-defined Prompts"
   ]
  },
  {
   "cell_type": "code",
   "execution_count": 15,
   "metadata": {},
   "outputs": [
    {
     "name": "stdout",
     "output_type": "stream",
     "text": [
      "All supported methods: \n",
      "['CoT', 'ZSCoT', 'least_to_most', 'generated_knowledge', 'expert_prompting', 'emotion_prompt', 'baseline']\n",
      "Supported datasets for each method: \n",
      "{'CoT': ['gsm8k', 'csqa', 'bigbench_date', 'bigbench_object_tracking'], 'ZSCoT': ['gsm8k', 'csqa', 'bigbench_date', 'bigbench_object_tracking'], 'expert_prompting': ['gsm8k', 'csqa', 'bigbench_date', 'bigbench_object_tracking'], 'emotion_prompt': ['gsm8k', 'csqa', 'bigbench_date', 'bigbench_object_tracking'], 'least_to_most': ['gsm8k', 'last_letter_concat'], 'generated_knowledge': ['csqa', 'numersense', 'qasc'], 'baseline': ['gsm8k', 'csqa', 'bigbench_date', 'bigbench_object_tracking', 'last_letter_concat', 'numersense', 'qasc']}\n"
     ]
    }
   ],
   "source": [
    "# load method\n",
    "# print all methods and their supported datasets\n",
    "print('All supported methods: ')\n",
    "print(pb.SUPPORTED_METHODS)\n",
    "print('Supported datasets for each method: ')\n",
    "print(pb.METHOD_SUPPORT_DATASET)\n",
    "\n",
    "method = pb.PEMethod(method='emotion_prompt', \n",
    "                        dataset=dataset_name,\n",
    "                        verbose=True,  # if True, print the detailed prompt and response\n",
    "                        prompt_id = 1  # for emotion_prompt \n",
    "                        )"
   ]
  },
  {
   "cell_type": "code",
   "execution_count": 16,
   "metadata": {},
   "outputs": [
    {
     "name": "stderr",
     "output_type": "stream",
     "text": [
      "  0%|          | 1/750 [00:01<14:19,  1.15s/it]"
     ]
    },
    {
     "name": "stdout",
     "output_type": "stream",
     "text": [
      "Alice, Bob, and Claire are playing a game. At the start of the game, they are each holding a ball: Alice has a orange ball, Bob has a white ball, and Claire has a blue ball. \n",
      "\n",
      "As the game progresses, pairs of players trade balls. First, Alice and Bob swap balls. Then, Bob and Claire swap balls. Finally, Alice and Bob swap balls. At the end of the game, Alice has the \n",
      "Which choice is true ? Answer Choices: (A) orange ball. (B) white ball. (C) blue ball.\n",
      "This is very important to my career.\n",
      "Please output your answer at the end as ##<your answer (among A through C)>\n",
      "\n",
      "At the end of the game, Alice will have the white ball. \n",
      "\n",
      "##B\n"
     ]
    },
    {
     "name": "stderr",
     "output_type": "stream",
     "text": [
      "  0%|          | 2/750 [00:03<21:50,  1.75s/it]"
     ]
    },
    {
     "name": "stdout",
     "output_type": "stream",
     "text": [
      "Alice, Bob, and Claire are playing a game. At the start of the game, they are each holding a ball: Alice has a orange ball, Bob has a white ball, and Claire has a blue ball. \n",
      "\n",
      "As the game progresses, pairs of players trade balls. First, Alice and Bob swap balls. Then, Bob and Claire swap balls. Finally, Alice and Bob swap balls. At the end of the game, Bob has the \n",
      "Which choice is true ? Answer Choices: (A) orange ball. (B) white ball. (C) blue ball.\n",
      "This is very important to my career.\n",
      "Please output your answer at the end as ##<your answer (among A through C)>\n",
      "\n",
      "Let's track the ball swaps:\n",
      "\n",
      "1. Alice has the orange ball, Bob has the white ball, and Claire has the blue ball.\n",
      "2. Alice and Bob swap balls: Alice has the white ball, Bob has the orange ball, and Claire has the blue ball.\n",
      "3. Bob and Claire swap balls: Alice has the white ball, Bob has the blue ball, and Claire has the orange ball.\n",
      "4. Alice and Bob swap balls again: Alice has the blue ball, Bob has the white ball, and Claire has the orange ball.\n",
      "\n",
      "At the end of the game, Bob has the white ball.\n",
      "\n",
      "Therefore, the correct answer is (B) white ball. ##B\n"
     ]
    },
    {
     "name": "stderr",
     "output_type": "stream",
     "text": [
      "\n"
     ]
    },
    {
     "data": {
      "text/plain": [
       "0.5"
      ]
     },
     "execution_count": 16,
     "metadata": {},
     "output_type": "execute_result"
    }
   ],
   "source": [
    "results = method.test(dataset, \n",
    "                      model, \n",
    "                      num_samples=2,\n",
    "                      )\n",
    "\n",
    "results"
   ]
  },
  {
   "cell_type": "code",
   "execution_count": null,
   "metadata": {},
   "outputs": [],
   "source": []
  }
 ],
 "metadata": {
  "kernelspec": {
   "display_name": ".venv",
   "language": "python",
   "name": "python3"
  },
  "language_info": {
   "codemirror_mode": {
    "name": "ipython",
    "version": 3
   },
   "file_extension": ".py",
   "mimetype": "text/x-python",
   "name": "python",
   "nbconvert_exporter": "python",
   "pygments_lexer": "ipython3",
   "version": "3.11.4"
  }
 },
 "nbformat": 4,
 "nbformat_minor": 2
}
