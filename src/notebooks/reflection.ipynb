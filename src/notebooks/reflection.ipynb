{
 "cells": [
  {
   "cell_type": "markdown",
   "metadata": {},
   "source": [
    "## Simple Refelction Architecture"
   ]
  },
  {
   "cell_type": "code",
   "execution_count": 1,
   "metadata": {},
   "outputs": [
    {
     "data": {
      "text/plain": [
       "True"
      ]
     },
     "execution_count": 1,
     "metadata": {},
     "output_type": "execute_result"
    }
   ],
   "source": [
    "from dotenv import load_dotenv\n",
    "load_dotenv()"
   ]
  },
  {
   "cell_type": "code",
   "execution_count": 6,
   "metadata": {},
   "outputs": [],
   "source": [
    "from langchain_core.pydantic_v1 import BaseModel, Field\n",
    "from langchain.prompts import ChatPromptTemplate, MessagesPlaceholder\n",
    "from langchain_core.messages import BaseMessage, HumanMessage, AIMessage\n",
    "\n",
    "from langchain.chat_models import ChatOpenAI\n",
    "\n",
    "from langgraph.graph import END, MessageGraph\n",
    "\n",
    "from typing import List, Sequence"
   ]
  },
  {
   "cell_type": "code",
   "execution_count": 14,
   "metadata": {},
   "outputs": [],
   "source": [
    "class GenerationOutput(BaseModel):\n",
    "    improved_prompt: str = Field(..., description=\"The improved prompt\")\n",
    "\n",
    "\n",
    "class ReflectionOutput(BaseModel):\n",
    "    feedback: str = Field(..., description=\"The feedback goes here\")\n",
    "\n",
    "llm = ChatOpenAI(\n",
    "    model=\"gpt-4o\",\n",
    "    temperature=0.5,\n",
    ")\n",
    "\n",
    "async def generation_node(state: Sequence[BaseMessage]) -> List[BaseMessage]:\n",
    "    prompt = ChatPromptTemplate.from_messages(\n",
    "        [\n",
    "            (\n",
    "                \"system\",\n",
    "                \"You are an AI engineer tasked with writing and improving prompts for a language model.\"\n",
    "                \" Generate the best possible prompt from the user request. Provide a detailed prompt that is clear and concise.\"\n",
    "                \" If the user provides critique, respond with a revised version of your previous attempts.\",\n",
    "            ),\n",
    "            MessagesPlaceholder(variable_name=\"messages\"),\n",
    "        ]\n",
    "    )\n",
    "    generate = prompt | llm\n",
    "    return await generate.ainvoke({\"messages\": state})\n",
    "\n",
    "async def reflection_node(messages: Sequence[BaseMessage]) -> List[BaseMessage]:\n",
    "    # Other messages we need to adjust\n",
    "    cls_map = {\"ai\": HumanMessage, \"human\": AIMessage}\n",
    "    # First message is the original user request. We hold it the same for all nodes\n",
    "    translated = [messages[0]] + [\n",
    "        cls_map[msg.type](content=msg.content) for msg in messages[1:]\n",
    "    ]\n",
    "    reflection_prompt = ChatPromptTemplate.from_messages(\n",
    "        [\n",
    "            (\n",
    "                \"system\",\n",
    "                \"You are an expert prompt engineer. Generate critique and recommendations for the user's prompt.\"\n",
    "                \" Provide detailed recommendations, including requests for context, examples, or clarifications.\",\n",
    "            ),\n",
    "            MessagesPlaceholder(variable_name=\"messages\"),\n",
    "        ]\n",
    "    )\n",
    "    reflect = reflection_prompt | llm\n",
    "    res = await reflect.ainvoke({\"messages\": translated})\n",
    "    # We treat the output of this as human feedback for the generator\n",
    "    return HumanMessage(content=res.content)\n",
    "\n",
    "builder = MessageGraph()\n",
    "builder.add_node(\"generate\", generation_node)\n",
    "builder.add_node(\"reflect\", reflection_node)\n",
    "builder.set_entry_point(\"generate\")\n",
    "\n",
    "def should_continue(state: List[BaseMessage]):\n",
    "    if len(state) > 6:\n",
    "        # End after 3 iterations\n",
    "        return END\n",
    "    return \"reflect\"\n",
    "\n",
    "builder.add_conditional_edges(\"generate\", should_continue)\n",
    "builder.add_edge(\"reflect\", \"generate\")\n",
    "graph = builder.compile()"
   ]
  },
  {
   "cell_type": "code",
   "execution_count": 15,
   "metadata": {},
   "outputs": [
    {
     "name": "stdout",
     "output_type": "stream",
     "text": [
      "{'generate': AIMessage(content='Certainly! Here’s an improved version of the prompt:\\n\\n---\\n\\n**Task:** Implement the function based on its provided signature and docstring.\\n\\n**Details:**\\n- **Function Signature:** `{function_details}`\\n- **Docstring:** `{docstring}`\\n\\n**Instructions:**\\n1. Carefully read the function signature to understand the expected inputs and outputs.\\n2. Review the docstring to comprehend the function\\'s purpose, behavior, and any specific requirements or constraints.\\n3. Write the complete function code that adheres to the given signature and fulfills the described functionality in the docstring.\\n\\n**Example:**\\n- **Function Signature:** `def add_numbers(a: int, b: int) -> int:`\\n- **Docstring:** `\"\"\"\\n    Adds two integers and returns the result.\\n    \\n    Args:\\n        a (int): The first integer.\\n        b (int): The second integer.\\n    \\n    Returns:\\n        int: The sum of the two integers.\\n    \"\"\"`\\n\\n**Implementation:**\\n```python\\ndef add_numbers(a: int, b: int) -> int:\\n    return a + b\\n```\\n\\nNow, implement the function:\\n\\n**Function Signature:** `{function_details}`\\n**Docstring:** `{docstring}`\\n\\n---\\n\\nThis version provides a clear structure and example, making it easier for the user to understand the task and expectations.', response_metadata={'token_usage': {'completion_tokens': 270, 'prompt_tokens': 88, 'total_tokens': 358}, 'model_name': 'gpt-4o', 'system_fingerprint': 'fp_3e7d703517', 'finish_reason': 'stop', 'logprobs': None}, id='run-46ac5b86-a2f2-47d8-a86b-eb12d2dcafb6-0')}\n",
      "---\n",
      "{'reflect': HumanMessage(content='Here\\'s a critique and detailed recommendations for further improving the prompt:\\n\\n### Critique:\\n\\n1. **Clarity and Structure:**\\n   - The original prompt is very concise but lacks detailed instructions and context, which can lead to confusion.\\n   - It doesn\\'t provide an example, making it harder for the user to understand what is expected.\\n\\n2. **Context:**\\n   - There is no context or background information provided about what the function is supposed to do, which can be crucial for understanding the requirements.\\n\\n3. **Instructions:**\\n   - The original prompt doesn\\'t break down the steps needed to complete the task, which could help guide the user.\\n\\n### Recommendations:\\n\\n1. **Provide Context:**\\n   - Explain the purpose of the function and the context in which it will be used. This helps the user understand the broader picture and the importance of the function.\\n\\n2. **Detailed Instructions:**\\n   - Break down the task into clear, actionable steps. This helps the user follow a structured approach to implementing the function.\\n\\n3. **Examples and Clarifications:**\\n   - Provide an example of a function signature and docstring, along with its implementation. This serves as a reference point and clarifies the expectations.\\n\\n4. **Formatting:**\\n   - Use clear formatting to distinguish between different parts of the prompt, such as instructions, examples, and the task itself.\\n\\n### Improved Prompt:\\n\\n---\\n\\n**Task:** Implement the function based on its provided signature and docstring.\\n\\n**Details:**\\n- **Function Signature:** `{function_details}`\\n- **Docstring:** `{docstring}`\\n\\n**Instructions:**\\n1. **Understand the Function Signature:**\\n   - Review the function signature to identify the expected inputs and outputs, including their types.\\n\\n2. **Analyze the Docstring:**\\n   - Carefully read the docstring to understand the function\\'s purpose, behavior, and any specific requirements or constraints.\\n   - Pay attention to the description of the parameters and the return value.\\n\\n3. **Implement the Function:**\\n   - Write the complete function code that adheres to the given signature and fulfills the described functionality in the docstring.\\n   - Ensure the function is efficient, handles edge cases, and includes necessary error handling.\\n\\n**Example:**\\n- **Function Signature:** `def add_numbers(a: int, b: int) -> int:`\\n- **Docstring:** `\"\"\"\\n    Adds two integers and returns the result.\\n    \\n    Args:\\n        a (int): The first integer.\\n        b (int): The second integer.\\n    \\n    Returns:\\n        int: The sum of the two integers.\\n    \"\"\"`\\n\\n**Implementation:**\\n```python\\ndef add_numbers(a: int, b: int) -> int:\\n    return a + b\\n```\\n\\n**Now, implement the function:**\\n\\n**Function Signature:** `{function_details}`\\n**Docstring:** `{docstring}`\\n\\n---\\n\\n**Additional Requests:**\\n- If there are any specific edge cases or examples you\\'d like to be tested, please provide them.\\n- If the function involves complex logic or external dependencies, include any additional information or constraints.\\n\\n---\\n\\nThis version provides a clear structure, detailed instructions, and an example, making it easier for the user to understand the task and expectations.', id='4f29bb88-b9f8-4bef-9227-8ca71c2fa4fb')}\n",
      "---\n",
      "{'generate': AIMessage(content='Thank you for the detailed critique and recommendations. Here’s a revised version of the prompt incorporating your suggestions:\\n\\n---\\n\\n**Task:** Implement the function based on its provided signature and docstring.\\n\\n**Context:**\\nYou are tasked with writing a function that adheres to a specific signature and fulfills the requirements described in its docstring. This function will be used as part of a larger codebase, so it is important to ensure it is both correct and efficient.\\n\\n**Details:**\\n- **Function Signature:** `{function_details}`\\n- **Docstring:** `{docstring}`\\n\\n**Instructions:**\\n1. **Understand the Function Signature:**\\n   - Review the function signature to identify the expected inputs and outputs, including their types.\\n\\n2. **Analyze the Docstring:**\\n   - Carefully read the docstring to understand the function\\'s purpose, behavior, and any specific requirements or constraints.\\n   - Pay attention to the description of the parameters and the return value.\\n\\n3. **Implement the Function:**\\n   - Write the complete function code that adheres to the given signature and fulfills the described functionality in the docstring.\\n   - Ensure the function is efficient, handles edge cases, and includes necessary error handling.\\n\\n**Example:**\\n- **Function Signature:** `def add_numbers(a: int, b: int) -> int:`\\n- **Docstring:** `\"\"\"\\n    Adds two integers and returns the result.\\n    \\n    Args:\\n        a (int): The first integer.\\n        b (int): The second integer.\\n    \\n    Returns:\\n        int: The sum of the two integers.\\n    \"\"\"`\\n\\n**Implementation:**\\n```python\\ndef add_numbers(a: int, b: int) -> int:\\n    return a + b\\n```\\n\\n**Now, implement the function:**\\n\\n**Function Signature:** `{function_details}`\\n**Docstring:** `{docstring}`\\n\\n**Additional Requests:**\\n- If there are any specific edge cases or examples you\\'d like to be tested, please provide them.\\n- If the function involves complex logic or external dependencies, include any additional information or constraints.\\n\\n---\\n\\nThis version provides a clear structure, detailed instructions, and an example, making it easier for the user to understand the task and expectations.', response_metadata={'token_usage': {'completion_tokens': 447, 'prompt_tokens': 1017, 'total_tokens': 1464}, 'model_name': 'gpt-4o', 'system_fingerprint': 'fp_3e7d703517', 'finish_reason': 'stop', 'logprobs': None}, id='run-f08ffebf-1f7b-4e47-b979-eb884717f0d8-0')}\n",
      "---\n",
      "{'reflect': HumanMessage(content='Your revised prompt is much clearer and more structured. It effectively guides the user through the task of implementing the function based on its signature and docstring. Here are a few additional recommendations to further enhance the prompt:\\n\\n### Recommendations:\\n\\n1. **Highlight Key Sections:**\\n   - Use bold or italic formatting to emphasize key sections like \"Understand the Function Signature\" and \"Analyze the Docstring\".\\n\\n2. **Clarify Additional Requests:**\\n   - Provide specific examples of what you mean by \"edge cases\" and \"complex logic or external dependencies\".\\n\\n3. **Encourage Testing:**\\n   - Suggest that the user write tests to verify the functionality of the implemented function.\\n\\n### Further Improved Prompt:\\n\\n---\\n\\n**Task:** Implement the function based on its provided signature and docstring.\\n\\n**Context:**\\nYou are tasked with writing a function that adheres to a specific signature and fulfills the requirements described in its docstring. This function will be used as part of a larger codebase, so it is important to ensure it is both correct and efficient.\\n\\n**Details:**\\n- **Function Signature:** `{function_details}`\\n- **Docstring:** `{docstring}`\\n\\n**Instructions:**\\n1. **Understand the Function Signature:**\\n   - Review the function signature to identify the expected inputs and outputs, including their types.\\n\\n2. **Analyze the Docstring:**\\n   - Carefully read the docstring to understand the function\\'s purpose, behavior, and any specific requirements or constraints.\\n   - Pay attention to the description of the parameters and the return value.\\n\\n3. **Implement the Function:**\\n   - Write the complete function code that adheres to the given signature and fulfills the described functionality in the docstring.\\n   - Ensure the function is efficient, handles edge cases, and includes necessary error handling.\\n   - **Tip:** Include comments in your code to explain any complex logic or decisions.\\n\\n**Example:**\\n- **Function Signature:** `def add_numbers(a: int, b: int) -> int:`\\n- **Docstring:** `\"\"\"\\n    Adds two integers and returns the result.\\n    \\n    Args:\\n        a (int): The first integer.\\n        b (int): The second integer.\\n    \\n    Returns:\\n        int: The sum of the two integers.\\n    \"\"\"`\\n\\n**Implementation:**\\n```python\\ndef add_numbers(a: int, b: int) -> int:\\n    return a + b\\n```\\n\\n**Now, implement the function:**\\n\\n**Function Signature:** `{function_details}`\\n**Docstring:** `{docstring}`\\n\\n**Additional Requests:**\\n- If there are any specific edge cases or examples you\\'d like to be tested, please provide them. For example, if the function should handle empty inputs, negative numbers, or very large values, mention these cases.\\n- If the function involves complex logic or external dependencies, include any additional information or constraints. For instance, if the function needs to interact with an external API or handle asynchronous operations, provide relevant details.\\n\\n**Testing:**\\n- After implementing the function, write tests to verify its correctness. Ensure that the tests cover both typical use cases and edge cases.\\n\\n---\\n\\nThis version provides even more guidance and clarity, making it easier for the user to understand and complete the task effectively.', id='2fd0e41a-0363-4fcd-820b-fb1bca12c530')}\n",
      "---\n",
      "{'generate': AIMessage(content='Thank you for the additional recommendations. Here’s the further improved prompt incorporating all your suggestions:\\n\\n---\\n\\n**Task:** Implement the function based on its provided signature and docstring.\\n\\n**Context:**\\nYou are tasked with writing a function that adheres to a specific signature and fulfills the requirements described in its docstring. This function will be used as part of a larger codebase, so it is important to ensure it is both correct and efficient.\\n\\n**Details:**\\n- **Function Signature:** `{function_details}`\\n- **Docstring:** `{docstring}`\\n\\n**Instructions:**\\n1. **Understand the Function Signature:**\\n   - Review the function signature to identify the expected inputs and outputs, including their types.\\n\\n2. **Analyze the Docstring:**\\n   - Carefully read the docstring to understand the function\\'s purpose, behavior, and any specific requirements or constraints.\\n   - Pay attention to the description of the parameters and the return value.\\n\\n3. **Implement the Function:**\\n   - Write the complete function code that adheres to the given signature and fulfills the described functionality in the docstring.\\n   - Ensure the function is efficient, handles edge cases, and includes necessary error handling.\\n   - **Tip:** Include comments in your code to explain any complex logic or decisions.\\n\\n**Example:**\\n- **Function Signature:** `def add_numbers(a: int, b: int) -> int:`\\n- **Docstring:** `\"\"\"\\n    Adds two integers and returns the result.\\n    \\n    Args:\\n        a (int): The first integer.\\n        b (int): The second integer.\\n    \\n    Returns:\\n        int: The sum of the two integers.\\n    \"\"\"`\\n\\n**Implementation:**\\n```python\\ndef add_numbers(a: int, b: int) -> int:\\n    return a + b\\n```\\n\\n**Now, implement the function:**\\n\\n**Function Signature:** `{function_details}`\\n**Docstring:** `{docstring}`\\n\\n**Additional Requests:**\\n- If there are any specific edge cases or examples you\\'d like to be tested, please provide them. For example, if the function should handle empty inputs, negative numbers, or very large values, mention these cases.\\n- If the function involves complex logic or external dependencies, include any additional information or constraints. For instance, if the function needs to interact with an external API or handle asynchronous operations, provide relevant details.\\n\\n**Testing:**\\n- After implementing the function, write tests to verify its correctness. Ensure that the tests cover both typical use cases and edge cases.\\n- **Tip:** Use a testing framework like `unittest` or `pytest` to organize and run your tests efficiently.\\n\\n---\\n\\nThis version provides even more guidance and clarity, making it easier for the user to understand and complete the task effectively.', response_metadata={'token_usage': {'completion_tokens': 558, 'prompt_tokens': 2126, 'total_tokens': 2684}, 'model_name': 'gpt-4o', 'system_fingerprint': 'fp_3e7d703517', 'finish_reason': 'stop', 'logprobs': None}, id='run-6d6d6ea2-ab75-4516-af3f-512492fa0112-0')}\n",
      "---\n",
      "{'reflect': HumanMessage(content='Your revised prompt is comprehensive and well-structured, providing clear guidance to the user. Here are a few final tweaks to ensure maximum clarity and effectiveness:\\n\\n1. **Highlighting Key Sections:**\\n   - Use bullet points or bold text to emphasize the main sections, making it easier to scan through the prompt.\\n\\n2. **Consistency in Formatting:**\\n   - Ensure consistent use of bold or italics for instructions and tips.\\n\\n3. **Encouragement for Best Practices:**\\n   - Encourage the user to follow best practices in coding, such as writing clean, readable code.\\n\\nHere’s the final version incorporating these suggestions:\\n\\n---\\n\\n**Task:** Implement the function based on its provided signature and docstring.\\n\\n**Context:**\\nYou are tasked with writing a function that adheres to a specific signature and fulfills the requirements described in its docstring. This function will be used as part of a larger codebase, so it is important to ensure it is both correct and efficient.\\n\\n**Details:**\\n- **Function Signature:** `{function_details}`\\n- **Docstring:** `{docstring}`\\n\\n**Instructions:**\\n1. **Understand the Function Signature:**\\n   - Review the function signature to identify the expected inputs and outputs, including their types.\\n\\n2. **Analyze the Docstring:**\\n   - Carefully read the docstring to understand the function\\'s purpose, behavior, and any specific requirements or constraints.\\n   - Pay attention to the description of the parameters and the return value.\\n\\n3. **Implement the Function:**\\n   - Write the complete function code that adheres to the given signature and fulfills the described functionality in the docstring.\\n   - Ensure the function is efficient, handles edge cases, and includes necessary error handling.\\n   - **Tip:** Include comments in your code to explain any complex logic or decisions.\\n\\n**Example:**\\n- **Function Signature:** `def add_numbers(a: int, b: int) -> int:`\\n- **Docstring:** `\"\"\"\\n    Adds two integers and returns the result.\\n    \\n    Args:\\n        a (int): The first integer.\\n        b (int): The second integer.\\n    \\n    Returns:\\n        int: The sum of the two integers.\\n    \"\"\"`\\n\\n**Implementation:**\\n```python\\ndef add_numbers(a: int, b: int) -> int:\\n    return a + b\\n```\\n\\n**Now, implement the function:**\\n\\n- **Function Signature:** `{function_details}`\\n- **Docstring:** `{docstring}`\\n\\n**Additional Requests:**\\n- If there are any specific edge cases or examples you\\'d like to be tested, please provide them. For example, if the function should handle empty inputs, negative numbers, or very large values, mention these cases.\\n- If the function involves complex logic or external dependencies, include any additional information or constraints. For instance, if the function needs to interact with an external API or handle asynchronous operations, provide relevant details.\\n\\n**Testing:**\\n- After implementing the function, write tests to verify its correctness. Ensure that the tests cover both typical use cases and edge cases.\\n- **Tip:** Use a testing framework like `unittest` or `pytest` to organize and run your tests efficiently.\\n\\n---\\n\\nThis version should be clear, detailed, and helpful for the user, ensuring they understand the task and can complete it effectively.', id='86335f0e-9546-47bd-862e-a3c2ac57e35f')}\n",
      "---\n",
      "{'generate': AIMessage(content='Thank you for the thoughtful feedback. Here’s the final version of the prompt, incorporating all the suggestions for maximum clarity and effectiveness:\\n\\n---\\n\\n**Task:** Implement the function based on its provided signature and docstring.\\n\\n**Context:**\\nYou are tasked with writing a function that adheres to a specific signature and fulfills the requirements described in its docstring. This function will be used as part of a larger codebase, so it is important to ensure it is both correct and efficient.\\n\\n**Details:**\\n- **Function Signature:** `{function_details}`\\n- **Docstring:** `{docstring}`\\n\\n**Instructions:**\\n1. **Understand the Function Signature:**\\n   - Review the function signature to identify the expected inputs and outputs, including their types.\\n\\n2. **Analyze the Docstring:**\\n   - Carefully read the docstring to understand the function\\'s purpose, behavior, and any specific requirements or constraints.\\n   - Pay attention to the description of the parameters and the return value.\\n\\n3. **Implement the Function:**\\n   - Write the complete function code that adheres to the given signature and fulfills the described functionality in the docstring.\\n   - Ensure the function is efficient, handles edge cases, and includes necessary error handling.\\n   - **Tip:** Include comments in your code to explain any complex logic or decisions.\\n\\n**Example:**\\n- **Function Signature:** `def add_numbers(a: int, b: int) -> int:`\\n- **Docstring:** `\"\"\"\\n    Adds two integers and returns the result.\\n    \\n    Args:\\n        a (int): The first integer.\\n        b (int): The second integer.\\n    \\n    Returns:\\n        int: The sum of the two integers.\\n    \"\"\"`\\n\\n**Implementation:**\\n```python\\ndef add_numbers(a: int, b: int) -> int:\\n    return a + b\\n```\\n\\n**Now, implement the function:**\\n\\n- **Function Signature:** `{function_details}`\\n- **Docstring:** `{docstring}`\\n\\n**Additional Requests:**\\n- If there are any specific edge cases or examples you\\'d like to be tested, please provide them. For example, if the function should handle empty inputs, negative numbers, or very large values, mention these cases.\\n- If the function involves complex logic or external dependencies, include any additional information or constraints. For instance, if the function needs to interact with an external API or handle asynchronous operations, provide relevant details.\\n\\n**Testing:**\\n- After implementing the function, write tests to verify its correctness. Ensure that the tests cover both typical use cases and edge cases.\\n- **Tip:** Use a testing framework like `unittest` or `pytest` to organize and run your tests efficiently.\\n\\n---\\n\\nThis version should be clear, detailed, and helpful for the user, ensuring they understand the task and can complete it effectively.', response_metadata={'token_usage': {'completion_tokens': 570, 'prompt_tokens': 3361, 'total_tokens': 3931}, 'model_name': 'gpt-4o', 'system_fingerprint': 'fp_66b29dffce', 'finish_reason': 'stop', 'logprobs': None}, id='run-cb629398-2f34-4ed1-b3da-dbf40989b512-0')}\n",
      "---\n"
     ]
    }
   ],
   "source": [
    "base_prompt = \"Populate the following function given its signature and docstring: {function_details}\"\n",
    "\n",
    "async for event in graph.astream(\n",
    "    [\n",
    "        HumanMessage(\n",
    "            content=f\"\"\"Improve the following prompt: \n",
    "            \n",
    "            Prompt: {base_prompt}\"\"\"\n",
    "        )\n",
    "    ],\n",
    "):\n",
    "    print(event)\n",
    "    print(\"---\")"
   ]
  },
  {
   "cell_type": "code",
   "execution_count": 16,
   "metadata": {},
   "outputs": [
    {
     "name": "stdout",
     "output_type": "stream",
     "text": [
      "Thank you for the thoughtful feedback. Here’s the final version of the prompt, incorporating all the suggestions for maximum clarity and effectiveness:\n",
      "\n",
      "---\n",
      "\n",
      "**Task:** Implement the function based on its provided signature and docstring.\n",
      "\n",
      "**Context:**\n",
      "You are tasked with writing a function that adheres to a specific signature and fulfills the requirements described in its docstring. This function will be used as part of a larger codebase, so it is important to ensure it is both correct and efficient.\n",
      "\n",
      "**Details:**\n",
      "- **Function Signature:** `{function_details}`\n",
      "- **Docstring:** `{docstring}`\n",
      "\n",
      "**Instructions:**\n",
      "1. **Understand the Function Signature:**\n",
      "   - Review the function signature to identify the expected inputs and outputs, including their types.\n",
      "\n",
      "2. **Analyze the Docstring:**\n",
      "   - Carefully read the docstring to understand the function's purpose, behavior, and any specific requirements or constraints.\n",
      "   - Pay attention to the description of the parameters and the return value.\n",
      "\n",
      "3. **Implement the Function:**\n",
      "   - Write the complete function code that adheres to the given signature and fulfills the described functionality in the docstring.\n",
      "   - Ensure the function is efficient, handles edge cases, and includes necessary error handling.\n",
      "   - **Tip:** Include comments in your code to explain any complex logic or decisions.\n",
      "\n",
      "**Example:**\n",
      "- **Function Signature:** `def add_numbers(a: int, b: int) -> int:`\n",
      "- **Docstring:** `\"\"\"\n",
      "    Adds two integers and returns the result.\n",
      "    \n",
      "    Args:\n",
      "        a (int): The first integer.\n",
      "        b (int): The second integer.\n",
      "    \n",
      "    Returns:\n",
      "        int: The sum of the two integers.\n",
      "    \"\"\"`\n",
      "\n",
      "**Implementation:**\n",
      "```python\n",
      "def add_numbers(a: int, b: int) -> int:\n",
      "    return a + b\n",
      "```\n",
      "\n",
      "**Now, implement the function:**\n",
      "\n",
      "- **Function Signature:** `{function_details}`\n",
      "- **Docstring:** `{docstring}`\n",
      "\n",
      "**Additional Requests:**\n",
      "- If there are any specific edge cases or examples you'd like to be tested, please provide them. For example, if the function should handle empty inputs, negative numbers, or very large values, mention these cases.\n",
      "- If the function involves complex logic or external dependencies, include any additional information or constraints. For instance, if the function needs to interact with an external API or handle asynchronous operations, provide relevant details.\n",
      "\n",
      "**Testing:**\n",
      "- After implementing the function, write tests to verify its correctness. Ensure that the tests cover both typical use cases and edge cases.\n",
      "- **Tip:** Use a testing framework like `unittest` or `pytest` to organize and run your tests efficiently.\n",
      "\n",
      "---\n",
      "\n",
      "This version should be clear, detailed, and helpful for the user, ensuring they understand the task and can complete it effectively.\n"
     ]
    }
   ],
   "source": [
    "print(event['generate'].content)"
   ]
  },
  {
   "cell_type": "code",
   "execution_count": null,
   "metadata": {},
   "outputs": [],
   "source": []
  }
 ],
 "metadata": {
  "kernelspec": {
   "display_name": ".venv",
   "language": "python",
   "name": "python3"
  },
  "language_info": {
   "codemirror_mode": {
    "name": "ipython",
    "version": 3
   },
   "file_extension": ".py",
   "mimetype": "text/x-python",
   "name": "python",
   "nbconvert_exporter": "python",
   "pygments_lexer": "ipython3",
   "version": "3.11.4"
  }
 },
 "nbformat": 4,
 "nbformat_minor": 2
}
