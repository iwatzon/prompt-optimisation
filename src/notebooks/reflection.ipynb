{
 "cells": [
  {
   "cell_type": "markdown",
   "metadata": {},
   "source": [
    "## Reflection Architecture"
   ]
  },
  {
   "cell_type": "code",
   "execution_count": 13,
   "metadata": {},
   "outputs": [],
   "source": [
    "from dotenv import load_dotenv\n",
    "import os\n",
    "\n",
    "load_dotenv()\n",
    "hf_api_token = os.getenv(\"HF_API_TOKEN\")\n",
    "openai_api_key = os.getenv(\"OPENAI_API_KEY\")"
   ]
  },
  {
   "cell_type": "code",
   "execution_count": 14,
   "metadata": {},
   "outputs": [],
   "source": [
    "from langchain_core.messages import AIMessage, BaseMessage, HumanMessage\n",
    "from langchain_core.prompts import ChatPromptTemplate, MessagesPlaceholder\n",
    "from langchain.chat_models import ChatOpenAI"
   ]
  },
  {
   "cell_type": "code",
   "execution_count": 15,
   "metadata": {},
   "outputs": [],
   "source": [
    "prompt = ChatPromptTemplate.from_messages(\n",
    "    [\n",
    "        (\n",
    "            \"system\",\n",
    "            \"You are a senior AI researcher tasked with writing excellent prompts to complete tasks.\"\n",
    "            \" Generate the best prompt possible to instruct a language model to complete the task specified by the user.\"\n",
    "            \" If the user provides critique, respond with a revised version of your previous attempts.\",\n",
    "        ),\n",
    "        MessagesPlaceholder(variable_name=\"messages\"),\n",
    "    ]\n",
    ")\n",
    "llm = ChatOpenAI(\n",
    "        api_key=openai_api_key,\n",
    "        temperature=0.5,\n",
    "        model='gpt-4o'\n",
    "    )\n",
    "generate = prompt | llm"
   ]
  },
  {
   "cell_type": "code",
   "execution_count": 16,
   "metadata": {},
   "outputs": [
    {
     "name": "stdout",
     "output_type": "stream",
     "text": [
      "Certainly! To create a function that calculates the factorial of a number, the prompt should be clear, concise, and include all necessary details. Here’s an ideal prompt:\n",
      "\n",
      "---\n",
      "\n",
      "**Prompt:**\n",
      "\n",
      "Write a Python function named `factorial` that takes a single integer parameter `n` and returns the factorial of `n`. The factorial of a non-negative integer `n` is the product of all positive integers less than or equal to `n`. For example, the factorial of 5 (denoted as 5!) is 5 * 4 * 3 * 2 * 1 = 120. Ensure that the function handles edge cases such as the factorial of 0, which is defined to be 1. Include error handling to manage negative inputs by returning `None` or raising an appropriate exception.\n",
      "\n",
      "**Example Usage:**\n",
      "\n",
      "```python\n",
      "print(factorial(5))  # Output: 120\n",
      "print(factorial(0))  # Output: 1\n",
      "print(factorial(-3)) # Output: None or raise ValueError\n",
      "```\n",
      "\n",
      "---\n",
      "\n",
      "This prompt provides clear instructions and examples to guide the language model in generating the desired function."
     ]
    }
   ],
   "source": [
    "prompt = \"\"\n",
    "request = HumanMessage(\n",
    "    content=\"Write a function to calculate the factorial of a number.\"\n",
    ")\n",
    "for chunk in generate.stream({\"messages\": [request]}):\n",
    "    print(chunk.content, end=\"\")\n",
    "    prompt += chunk.content"
   ]
  },
  {
   "cell_type": "markdown",
   "metadata": {},
   "source": [
    "### Reflection"
   ]
  },
  {
   "cell_type": "code",
   "execution_count": 17,
   "metadata": {},
   "outputs": [],
   "source": [
    "reflection_prompt = ChatPromptTemplate.from_messages(\n",
    "    [\n",
    "        (\n",
    "            \"system\",\n",
    "            \"You are an expert prompt engineer evaluating a prompt. Generate critique and recommendations for the user's prompt.\"\n",
    "            \" Provide detailed recommendations, including requests for intructions, context, examples, style, etc.\",\n",
    "        ),\n",
    "        MessagesPlaceholder(variable_name=\"messages\"),\n",
    "    ]\n",
    ")\n",
    "reflect = reflection_prompt | llm"
   ]
  },
  {
   "cell_type": "code",
   "execution_count": 19,
   "metadata": {},
   "outputs": [
    {
     "name": "stdout",
     "output_type": "stream",
     "text": [
      "Your initial prompt is clear but lacks some details that can help ensure the function is implemented correctly and robustly. Here are some specific recommendations to improve it:\n",
      "\n",
      "1. **Function Name and Parameters:**\n",
      "   - Clearly specify the function name and its parameters.\n",
      "   \n",
      "2. **Definition and Examples:**\n",
      "   - Provide a clear definition of what a factorial is.\n",
      "   - Include examples of expected input and output.\n",
      "\n",
      "3. **Edge Cases:**\n",
      "   - Mention how to handle edge cases, such as the factorial of 0.\n",
      "   - Specify how to handle negative inputs (e.g., return `None` or raise an exception).\n",
      "\n",
      "4. **Programming Language:**\n",
      "   - Specify the programming language (if not obvious).\n",
      "\n",
      "5. **Error Handling:**\n",
      "   - Explicitly state how to handle invalid inputs.\n",
      "\n",
      "Here’s an improved version of the prompt:\n",
      "\n",
      "---\n",
      "\n",
      "**Prompt:**\n",
      "\n",
      "Write a Python function named `factorial` that calculates the factorial of a given non-negative integer `n`. The function should:\n",
      "\n",
      "1. Take a single integer parameter `n`.\n",
      "2. Return the factorial of `n`, which is the product of all positive integers less than or equal to `n`.\n",
      "3. Return `1` if `n` is `0`, as the factorial of `0` is defined to be `1`.\n",
      "4. Handle negative inputs by either returning `None` or raising a `ValueError` with an appropriate error message.\n",
      "\n",
      "**Definition:**\n",
      "The factorial of a non-negative integer `n` (denoted as `n!`) is the product of all positive integers less than or equal to `n`. For example:\n",
      "- `5! = 5 * 4 * 3 * 2 * 1 = 120`\n",
      "- `3! = 3 * 2 * 1 = 6`\n",
      "- `0! = 1`\n",
      "\n",
      "**Example Usage:**\n",
      "\n",
      "```python\n",
      "def factorial(n):\n",
      "    if n < 0:\n",
      "        raise ValueError(\"Input must be a non-negative integer.\")\n",
      "    elif n == 0:\n",
      "        return 1\n",
      "    else:\n",
      "        result = 1\n",
      "        for i in range(1, n + 1):\n",
      "            result *= i\n",
      "        return result\n",
      "\n",
      "# Test cases\n",
      "print(factorial(5))  # Output: 120\n",
      "print(factorial(0))  # Output: 1\n",
      "try:\n",
      "    print(factorial(-3)) # Should raise ValueError\n",
      "except ValueError as e:\n",
      "    print(e)  # Output: Input must be a non-negative integer.\n",
      "```\n",
      "\n",
      "**Requirements:**\n",
      "- Ensure the function is efficient and handles large values of `n` appropriately.\n",
      "- Include error handling for invalid inputs.\n",
      "\n",
      "---\n",
      "\n",
      "This improved prompt provides a comprehensive guide for implementing the function, including clear instructions, examples, and error handling, ensuring the function is robust and user-friendly."
     ]
    }
   ],
   "source": [
    "reflection = \"\"\n",
    "for chunk in reflect.stream({\"messages\": [request, HumanMessage(content=prompt)]}):\n",
    "    print(chunk.content, end=\"\")\n",
    "    reflection += chunk.content"
   ]
  },
  {
   "cell_type": "code",
   "execution_count": 20,
   "metadata": {},
   "outputs": [
    {
     "name": "stdout",
     "output_type": "stream",
     "text": [
      "Thank you for your detailed feedback! Based on your recommendations, here’s the revised prompt incorporating all the specified improvements:\n",
      "\n",
      "---\n",
      "\n",
      "**Prompt:**\n",
      "\n",
      "Write a Python function named `factorial` that calculates the factorial of a given non-negative integer `n`. The function should:\n",
      "\n",
      "1. Take a single integer parameter `n`.\n",
      "2. Return the factorial of `n`, which is the product of all positive integers less than or equal to `n`.\n",
      "3. Return `1` if `n` is `0`, as the factorial of `0` is defined to be `1`.\n",
      "4. Handle negative inputs by either returning `None` or raising a `ValueError` with an appropriate error message.\n",
      "\n",
      "**Definition:**\n",
      "The factorial of a non-negative integer `n` (denoted as `n!`) is the product of all positive integers less than or equal to `n`. For example:\n",
      "- `5! = 5 * 4 * 3 * 2 * 1 = 120`\n",
      "- `3! = 3 * 2 * 1 = 6`\n",
      "- `0! = 1`\n",
      "\n",
      "**Example Usage:**\n",
      "\n",
      "```python\n",
      "def factorial(n):\n",
      "    if not isinstance(n, int):\n",
      "        raise TypeError(\"Input must be an integer.\")\n",
      "    if n < 0:\n",
      "        raise ValueError(\"Input must be a non-negative integer.\")\n",
      "    elif n == 0:\n",
      "        return 1\n",
      "    else:\n",
      "        result = 1\n",
      "        for i in range(1, n + 1):\n",
      "            result *= i\n",
      "        return result\n",
      "\n",
      "# Test cases\n",
      "print(factorial(5))  # Output: 120\n",
      "print(factorial(0))  # Output: 1\n",
      "try:\n",
      "    print(factorial(-3)) # Should raise ValueError\n",
      "except ValueError as e:\n",
      "    print(e)  # Output: Input must be a non-negative integer.\n",
      "try:\n",
      "    print(factorial(3.5)) # Should raise TypeError\n",
      "except TypeError as e:\n",
      "    print(e)  # Output: Input must be an integer.\n",
      "```\n",
      "\n",
      "**Requirements:**\n",
      "- Ensure the function is efficient and handles large values of `n` appropriately.\n",
      "- Include error handling for invalid inputs, such as non-integer types.\n",
      "\n",
      "---\n",
      "\n",
      "This revised prompt ensures that all necessary details are included, making the instructions clear and comprehensive for implementing a robust factorial function in Python."
     ]
    }
   ],
   "source": [
    "for chunk in generate.stream(\n",
    "    {\"messages\": [request, AIMessage(content=prompt), HumanMessage(content=reflection)]}\n",
    "):\n",
    "    print(chunk.content, end=\"\")"
   ]
  },
  {
   "cell_type": "markdown",
   "metadata": {},
   "source": [
    "### Graph"
   ]
  },
  {
   "cell_type": "code",
   "execution_count": 21,
   "metadata": {},
   "outputs": [],
   "source": [
    "from typing import List, Sequence\n",
    "\n",
    "from langgraph.graph import END, MessageGraph\n",
    "\n",
    "\n",
    "async def generation_node(state: Sequence[BaseMessage]):\n",
    "    return await generate.ainvoke({\"messages\": state})\n",
    "\n",
    "\n",
    "async def reflection_node(messages: Sequence[BaseMessage]) -> List[BaseMessage]:\n",
    "    # Other messages we need to adjust\n",
    "    cls_map = {\"ai\": HumanMessage, \"human\": AIMessage}\n",
    "    # First message is the original user request. We hold it the same for all nodes\n",
    "    translated = [messages[0]] + [\n",
    "        cls_map[msg.type](content=msg.content) for msg in messages[1:]\n",
    "    ]\n",
    "    res = await reflect.ainvoke({\"messages\": translated})\n",
    "    # We treat the output of this as human feedback for the generator\n",
    "    return HumanMessage(content=res.content)\n",
    "\n",
    "\n",
    "builder = MessageGraph()\n",
    "builder.add_node(\"generate\", generation_node)\n",
    "builder.add_node(\"reflect\", reflection_node)\n",
    "builder.set_entry_point(\"generate\")\n",
    "\n",
    "\n",
    "def should_continue(state: List[BaseMessage]):\n",
    "    if len(state) > 6:\n",
    "        # End after 3 iterations\n",
    "        return END\n",
    "    return \"reflect\"\n",
    "\n",
    "\n",
    "builder.add_conditional_edges(\"generate\", should_continue)\n",
    "builder.add_edge(\"reflect\", \"generate\")\n",
    "graph = builder.compile()"
   ]
  },
  {
   "cell_type": "code",
   "execution_count": 26,
   "metadata": {},
   "outputs": [
    {
     "name": "stdout",
     "output_type": "stream",
     "text": [
      "{'generate': AIMessage(content='Sure! Here is a prompt to instruct a language model to write a function to calculate the factorial of a number:\\n\\n---\\n\\n**Task: Write a Function to Calculate the Factorial of a Number**\\n\\n**Instructions:**\\n\\n1. **Function Definition**: Define a function named `calculate_factorial` that takes a single argument, `n`, which is a non-negative integer.\\n2. **Factorial Concept**: The factorial of a non-negative integer `n` is the product of all positive integers less than or equal to `n`. It is denoted as `n!`.\\n   - For example: \\n     - `0! = 1`\\n     - `1! = 1`\\n     - `5! = 5 * 4 * 3 * 2 * 1 = 120`\\n3. **Edge Case**: Ensure that the function correctly handles the edge case where `n` is 0. By definition, `0!` is `1`.\\n4. **Implementation**: Use a loop or recursion to calculate the factorial.\\n5. **Return Value**: The function should return the factorial of the given number.\\n\\n**Example Usage:**\\n```python\\nprint(calculate_factorial(5))  # Output: 120\\nprint(calculate_factorial(0))  # Output: 1\\n```\\n\\n**Additional Notes:**\\n- Ensure that the function is efficient and handles large values of `n` appropriately.\\n- Include error handling to manage cases where the input is not a non-negative integer.\\n\\n---\\n\\nUsing these instructions, write the `calculate_factorial` function in Python.\\n\\n---\\n\\nFeel free to let me know if you need any changes or additional details!', response_metadata={'token_usage': {'completion_tokens': 345, 'prompt_tokens': 76, 'total_tokens': 421}, 'model_name': 'gpt-4o', 'system_fingerprint': 'fp_319be4768e', 'finish_reason': 'stop', 'logprobs': None}, id='run-ad8d6466-6dec-4e6a-b56d-6127abed3d91-0')}\n",
      "---\n",
      "{'reflect': HumanMessage(content='Your prompt is quite comprehensive, but there are a few areas where it can be improved for clarity and completeness. Here are my critiques and recommendations:\\n\\n### Critique:\\n1. **Function Name**: The function name `calculate_factorial` is clear, but it might be improved by specifying the language (Python) in the prompt title.\\n2. **Factorial Concept**: The explanation of the factorial concept is good but could be more concise.\\n3. **Edge Case**: The edge case for `0!` is well-covered.\\n4. **Implementation**: Mentioning both loop and recursion is good, but it might be better to choose one to avoid confusion.\\n5. **Error Handling**: The prompt suggests error handling but does not specify what kind of errors to handle.\\n6. **Examples**: The examples are clear, but it might be useful to include a few more, especially for edge cases and invalid inputs.\\n7. **Additional Notes**: The efficiency note is good, but it could be expanded to mention specific techniques or libraries if relevant.\\n\\n### Recommendations:\\n1. **Title**: Make the title more descriptive.\\n2. **Context**: Provide a brief context about where this function might be used.\\n3. **Examples**: Include more examples, especially for invalid inputs.\\n4. **Error Handling**: Specify the types of errors (e.g., negative numbers, non-integer inputs) and how to handle them.\\n5. **Style**: Specify coding style guidelines if any (e.g., PEP 8 for Python).\\n\\n### Revised Prompt:\\n\\n---\\n\\n**Task: Write a Python Function to Calculate the Factorial of a Number**\\n\\n**Context:**\\nYou are writing a utility function that could be part of a larger mathematical library. This function will calculate the factorial of a given non-negative integer.\\n\\n**Instructions:**\\n\\n1. **Function Definition**: Define a function named `calculate_factorial` that takes a single argument, `n`, which is a non-negative integer.\\n2. **Factorial Concept**: The factorial of a non-negative integer `n` is the product of all positive integers less than or equal to `n`. It is denoted as `n!`.\\n   - For example:\\n     - `0! = 1`\\n     - `1! = 1`\\n     - `5! = 5 * 4 * 3 * 2 * 1 = 120`\\n3. **Edge Case**: Ensure that the function correctly handles the edge case where `n` is 0. By definition, `0!` is `1`.\\n4. **Implementation**: Use a loop to calculate the factorial. (Avoid recursion to prevent stack overflow for large `n`.)\\n5. **Return Value**: The function should return the factorial of the given number.\\n6. **Error Handling**: Include error handling to manage cases where the input is:\\n   - A negative integer: Raise a `ValueError` with an appropriate message.\\n   - Not an integer: Raise a `TypeError` with an appropriate message.\\n\\n**Example Usage:**\\n```python\\nprint(calculate_factorial(5))  # Output: 120\\nprint(calculate_factorial(0))  # Output: 1\\nprint(calculate_factorial(10)) # Output: 3628800\\n```\\n\\n**Example Error Handling:**\\n```python\\ntry:\\n    calculate_factorial(-5)\\nexcept ValueError as e:\\n    print(e)  # Output: Input must be a non-negative integer.\\n\\ntry:\\n    calculate_factorial(5.5)\\nexcept TypeError as e:\\n    print(e)  # Output: Input must be an integer.\\n```\\n\\n**Additional Notes:**\\n- Ensure the function is efficient and can handle reasonably large values of `n`.\\n- Follow PEP 8 style guidelines for writing Python code.\\n\\nUsing these instructions, write the `calculate_factorial` function in Python.\\n\\n---\\n\\nThis revised prompt provides clearer instructions, more context, and additional examples to guide the developer.', id='09ee4556-ac96-4865-b452-3810c650c6aa')}\n",
      "---\n",
      "{'generate': AIMessage(content='Thank you for your detailed feedback! Here is the revised prompt incorporating your recommendations:\\n\\n---\\n\\n**Task: Write a Python Function to Calculate the Factorial of a Number**\\n\\n**Context:**\\nYou are writing a utility function that could be part of a larger mathematical library. This function will calculate the factorial of a given non-negative integer.\\n\\n**Instructions:**\\n\\n1. **Function Definition**: Define a function named `calculate_factorial` that takes a single argument, `n`, which is a non-negative integer.\\n2. **Factorial Concept**: The factorial of a non-negative integer `n` is the product of all positive integers less than or equal to `n`. It is denoted as `n!`.\\n   - For example:\\n     - `0! = 1`\\n     - `1! = 1`\\n     - `5! = 5 * 4 * 3 * 2 * 1 = 120`\\n3. **Edge Case**: Ensure that the function correctly handles the edge case where `n` is 0. By definition, `0!` is `1`.\\n4. **Implementation**: Use a loop to calculate the factorial. (Avoid recursion to prevent stack overflow for large `n`.)\\n5. **Return Value**: The function should return the factorial of the given number.\\n6. **Error Handling**: Include error handling to manage cases where the input is:\\n   - A negative integer: Raise a `ValueError` with an appropriate message.\\n   - Not an integer: Raise a `TypeError` with an appropriate message.\\n\\n**Example Usage:**\\n```python\\nprint(calculate_factorial(5))  # Output: 120\\nprint(calculate_factorial(0))  # Output: 1\\nprint(calculate_factorial(10)) # Output: 3628800\\n```\\n\\n**Example Error Handling:**\\n```python\\ntry:\\n    calculate_factorial(-5)\\nexcept ValueError as e:\\n    print(e)  # Output: Input must be a non-negative integer.\\n\\ntry:\\n    calculate_factorial(5.5)\\nexcept TypeError as e:\\n    print(e)  # Output: Input must be an integer.\\n```\\n\\n**Additional Notes:**\\n- Ensure the function is efficient and can handle reasonably large values of `n`.\\n- Follow PEP 8 style guidelines for writing Python code.\\n\\nUsing these instructions, write the `calculate_factorial` function in Python.\\n\\n---\\n\\nI hope this revised prompt meets your expectations. Let me know if there are any further adjustments needed!', response_metadata={'token_usage': {'completion_tokens': 522, 'prompt_tokens': 1254, 'total_tokens': 1776}, 'model_name': 'gpt-4o', 'system_fingerprint': 'fp_319be4768e', 'finish_reason': 'stop', 'logprobs': None}, id='run-7f8669fc-8fa5-484c-a428-61118c1328f8-0')}\n",
      "---\n",
      "{'reflect': HumanMessage(content='Your revised prompt is much improved and well-structured. It clearly outlines the requirements and provides sufficient context and examples. Here are a few minor tweaks and additional suggestions to make it even more robust:\\n\\n1. **Clarify the Context**: Mention the importance of this function in mathematical computations or its potential use cases.\\n2. **Example Error Handling**: Include a case where a string is passed to ensure all non-integer inputs are considered.\\n3. **Additional Notes**: Add a note about testing the function with edge cases and large inputs.\\n\\n### Final Revised Prompt:\\n\\n---\\n\\n**Task: Write a Python Function to Calculate the Factorial of a Number**\\n\\n**Context:**\\nYou are writing a utility function that could be part of a larger mathematical library. This function will calculate the factorial of a given non-negative integer. Factorials are commonly used in permutations, combinations, and other mathematical computations.\\n\\n**Instructions:**\\n\\n1. **Function Definition**: Define a function named `calculate_factorial` that takes a single argument, `n`, which is a non-negative integer.\\n2. **Factorial Concept**: The factorial of a non-negative integer `n` is the product of all positive integers less than or equal to `n`. It is denoted as `n!`.\\n   - For example:\\n     - `0! = 1`\\n     - `1! = 1`\\n     - `5! = 5 * 4 * 3 * 2 * 1 = 120`\\n3. **Edge Case**: Ensure that the function correctly handles the edge case where `n` is 0. By definition, `0!` is `1`.\\n4. **Implementation**: Use a loop to calculate the factorial. (Avoid recursion to prevent stack overflow for large `n`.)\\n5. **Return Value**: The function should return the factorial of the given number.\\n6. **Error Handling**: Include error handling to manage cases where the input is:\\n   - A negative integer: Raise a `ValueError` with an appropriate message.\\n   - Not an integer: Raise a `TypeError` with an appropriate message.\\n\\n**Example Usage:**\\n```python\\nprint(calculate_factorial(5))  # Output: 120\\nprint(calculate_factorial(0))  # Output: 1\\nprint(calculate_factorial(10)) # Output: 3628800\\n```\\n\\n**Example Error Handling:**\\n```python\\ntry:\\n    calculate_factorial(-5)\\nexcept ValueError as e:\\n    print(e)  # Output: Input must be a non-negative integer.\\n\\ntry:\\n    calculate_factorial(5.5)\\nexcept TypeError as e:\\n    print(e)  # Output: Input must be an integer.\\n\\ntry:\\n    calculate_factorial(\"five\")\\nexcept TypeError as e:\\n    print(e)  # Output: Input must be an integer.\\n```\\n\\n**Additional Notes:**\\n- Ensure the function is efficient and can handle reasonably large values of `n`.\\n- Follow PEP 8 style guidelines for writing Python code.\\n- Test the function with edge cases and large inputs to ensure reliability.\\n\\nUsing these instructions, write the `calculate_factorial` function in Python.\\n\\n---\\n\\nThis final version provides a comprehensive guide for writing the factorial function, ensuring clarity, robustness, and adherence to best practices. Great job on the revisions!', id='13a0f657-72ce-4022-92cf-38b060129100')}\n",
      "---\n"
     ]
    }
   ],
   "source": [
    "async for event in graph.astream(\n",
    "    [\n",
    "        HumanMessage(\n",
    "            content=\"Generate a prompt to write a function to calculate the factorial of a number.\"\n",
    "        )\n",
    "    ],\n",
    "):\n",
    "    print(event)\n",
    "    print(\"---\")"
   ]
  },
  {
   "cell_type": "code",
   "execution_count": null,
   "metadata": {},
   "outputs": [],
   "source": []
  }
 ],
 "metadata": {
  "kernelspec": {
   "display_name": ".venv",
   "language": "python",
   "name": "python3"
  },
  "language_info": {
   "codemirror_mode": {
    "name": "ipython",
    "version": 3
   },
   "file_extension": ".py",
   "mimetype": "text/x-python",
   "name": "python",
   "nbconvert_exporter": "python",
   "pygments_lexer": "ipython3",
   "version": "3.11.4"
  }
 },
 "nbformat": 4,
 "nbformat_minor": 2
}
